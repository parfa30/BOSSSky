{
 "cells": [
  {
   "cell_type": "code",
   "execution_count": 296,
   "metadata": {
    "collapsed": true
   },
   "outputs": [],
   "source": [
    "%matplotlib inline\n",
    "import glob, os\n",
    "import numpy as np\n",
    "import pandas as pd\n",
    "import matplotlib.pyplot as plt\n",
    "from scipy.linalg import lstsq\n",
    "from astropy.io import fits\n",
    "from scipy import interpolate\n",
    "import multiprocessing\n",
    "import statsmodels.api as sm\n",
    "from scipy.special import eval_legendre, eval_chebys\n",
    "from numpy.linalg import inv"
   ]
  },
  {
   "cell_type": "code",
   "execution_count": 297,
   "metadata": {
    "collapsed": true
   },
   "outputs": [],
   "source": [
    "SPECTRA_DIR = '/Volumes/PARKER/boss_files/new_sky_flux/'\n",
    "spectra_files = glob.glob(SPECTRA_DIR+'*calibrated_sky.npy')\n",
    "SAVE_DIR ='/Users/parkerf/Research/SkyModel/BOSS_Sky/FitTest/split_flux/'"
   ]
  },
  {
   "cell_type": "code",
   "execution_count": 298,
   "metadata": {
    "collapsed": false
   },
   "outputs": [],
   "source": [
    "MetaData = np.load('/Volumes/PARKER/boss_files/new_sky_flux/meta_raw.npy')"
   ]
  },
  {
   "cell_type": "markdown",
   "metadata": {},
   "source": [
    "## 1) Airglow Lines "
   ]
  },
  {
   "cell_type": "code",
   "execution_count": 299,
   "metadata": {
    "collapsed": false
   },
   "outputs": [],
   "source": [
    "AIRGLOW_DIR = '/Users/parkerf/Research/SkyModel/SkyModelling/AirglowSpectra/cosby'\n",
    "AirglowFiles = glob.glob(AIRGLOW_DIR+'/*.txt')\n",
    "AirglowLines = []\n",
    "for file in AirglowFiles:\n",
    "    data = pd.read_csv(file,delim_whitespace=True)\n",
    "    d = data.to_records(index=False)\n",
    "    AirglowLines.append(np.array(d))\n",
    "AirglowLines = np.hstack(AirglowLines)"
   ]
  },
  {
   "cell_type": "code",
   "execution_count": 300,
   "metadata": {
    "collapsed": true
   },
   "outputs": [],
   "source": [
    "def air_to_vac(wave):\n",
    "    \"\"\"Index of refraction to go from wavelength in air to wavelength in vacuum\n",
    "    Equation from (Edlen 1966)\n",
    "    vac_wave = n*air_wave\n",
    "    \"\"\"\n",
    "    #Convert to um\n",
    "    wave_um = wave*.001\n",
    "    ohm2 = (1./wave_um)**(2)\n",
    "\n",
    "    #Calculate index at every wavelength\n",
    "    nn = []\n",
    "    for x in ohm2:\n",
    "        n = 1+10**(-8)*(8342.13 + (2406030/float(130.-x)) + (15997/float(389-x)))\n",
    "        nn.append(n)\n",
    "    \n",
    "    #Get new wavelength by multiplying by index of refraction\n",
    "    vac_wave = nn*wave\n",
    "    return vac_wave"
   ]
  },
  {
   "cell_type": "code",
   "execution_count": 301,
   "metadata": {
    "collapsed": false
   },
   "outputs": [
    {
     "name": "stdout",
     "output_type": "stream",
     "text": [
      "blue:  38\n",
      "red:  1087\n"
     ]
    }
   ],
   "source": [
    "#Get Vac Lines\n",
    "b_sig = np.where(AirglowLines['obs_eint'] > 5)\n",
    "bVL = air_to_vac(AirglowLines['obs_wave'])\n",
    "bVL = bVL[b_sig] #nm to A\n",
    "Hg = air_to_vac(np.asarray([404.6,435.8,546.0],dtype=float))\n",
    "\n",
    "#print(Hg)\n",
    "bVL = np.hstack([bVL, Hg])\n",
    "BlueVacLines = bVL[bVL < 650]\n",
    "#print(BlueVacLines)\n",
    "print('blue: ',len(BlueVacLines))\n",
    "\n",
    "r_sig = np.where(AirglowLines['obs_eint'] > 5)\n",
    "rVL = air_to_vac(AirglowLines['obs_wave'])\n",
    "rVL = rVL[r_sig] #nm to A\n",
    "RedVacLines = rVL[rVL > 560]\n",
    "print('red: ', len(RedVacLines))"
   ]
  },
  {
   "cell_type": "code",
   "execution_count": 24,
   "metadata": {
    "collapsed": true
   },
   "outputs": [],
   "source": [
    "BlueAirglowLines = np.load('blue_airglowlines.npy')"
   ]
  },
  {
   "cell_type": "markdown",
   "metadata": {},
   "source": [
    "## 2) Get the Data and Perform analysis"
   ]
  },
  {
   "cell_type": "code",
   "execution_count": 302,
   "metadata": {
    "collapsed": true
   },
   "outputs": [],
   "source": [
    "ttype = 'blue'"
   ]
  },
  {
   "cell_type": "code",
   "execution_count": 305,
   "metadata": {
    "collapsed": false
   },
   "outputs": [
    {
     "name": "stdout",
     "output_type": "stream",
     "text": [
      "Fitting spectra in plate 3590\n",
      "736\n",
      "Fitting spectra in plate 3755\n",
      "640\n",
      "Fitting spectra in plate 4204\n",
      "588\n"
     ]
    },
    {
     "name": "stderr",
     "output_type": "stream",
     "text": [
      "/Users/parkerf/anaconda3/lib/python3.5/site-packages/ipykernel/__main__.py:67: RuntimeWarning: invalid value encountered in double_scalars\n"
     ]
    },
    {
     "name": "stdout",
     "output_type": "stream",
     "text": [
      "Fitting spectra in plate 4865\n",
      "400\n",
      "Fitting spectra in plate 5339\n",
      "1806\n",
      "Fitting spectra in plate 5399\n",
      "640\n",
      "Fitting spectra in plate 5956\n",
      "560\n",
      "Fitting spectra in plate 6112\n",
      "440\n",
      "Fitting spectra in plate 6709\n",
      "320\n",
      "Fitting spectra in plate 7114\n",
      "364\n",
      "Fitting spectra in plate 7381\n",
      "320\n",
      "CPU times: user 4min, sys: 15.8 s, total: 4min 16s\n",
      "Wall time: 4min 41s\n"
     ]
    }
   ],
   "source": [
    "%%time\n",
    "for spectra_file in np.array(spectra_files):\n",
    "    plate_num = spectra_file[-23:-19]\n",
    "    print(\"Fitting spectra in plate %s\" % plate_num)\n",
    "    this_plate = MetaData[MetaData['PLATE'] == int(plate_num)]\n",
    "    spectra = np.load(spectra_file) \n",
    "    \n",
    "    specnos = get_specnos()\n",
    "    spectra_length = len(specnos)\n",
    "    print(spectra_length)\n",
    "\n",
    "    Data = []\n",
    "    for specno in specnos:\n",
    "        Data.append(fit_and_split_spectrum(specno))\n",
    "\n",
    "    np.save(SAVE_DIR+plate_num+'_split_fit',Data)"
   ]
  },
  {
   "cell_type": "code",
   "execution_count": 124,
   "metadata": {
    "collapsed": true
   },
   "outputs": [],
   "source": [
    "def get_specnos():\n",
    "    \"\"\"Function that runs the linear model and saves the output. The output file is a .npy file that includes\n",
    "    the parts of the model (lines, continuum, and residuals) along with the wavelengths associated for ease in comparison.\n",
    "    It also contains some meta data so that these linear models can be correlated with the actual flux.\n",
    "\n",
    "    This funciton is used in a multiprocessing loop.\n",
    "    \"\"\"\n",
    "\n",
    "    if ttype == 'test':\n",
    "        max_num = 10 \n",
    "        specnos = this_plate[0: max_num]['SPECNO']\n",
    "    elif ttype == 'blue':\n",
    "        max_num = len(spectra)-1\n",
    "        specnos = this_plate[(this_plate['CAMERAS'] == b'b1') | (this_plate['CAMERAS'] == b'b2')]['SPECNO']\n",
    "    elif ttype == 'red':\n",
    "        max_num = len(spectra)-1\n",
    "        specnos = this_plate[(this_plate['CAMERAS'] == b'r1') | (this_plate['CAMERAS'] == b'r2')]['SPECNO']\n",
    "    elif ttype == 'full':\n",
    "        max_num = len(spectra)\n",
    "        specnos = this_plate['SPECNO']\n",
    "    else: \n",
    "        print(\"not a valid type. Going to test\")\n",
    "        max_num = 10 #len(spectra) Number of spectra in a given plate that you want to run this for. Mostly for debugging\n",
    "        specnos = np.random.choice(this_plate['SPECNO'], size=max_num)\n",
    "\n",
    "    return specnos"
   ]
  },
  {
   "cell_type": "code",
   "execution_count": 202,
   "metadata": {
    "collapsed": true
   },
   "outputs": [],
   "source": [
    "def fit_and_split_spectrum(specno):\n",
    "    #print('splitting spectra %d/%d for plate %s' % (specno, spectra_length, plate_num))\n",
    "    \n",
    "    this_obs = this_plate[this_plate['SPECNO'] == specno]\n",
    "\n",
    "    if len(this_obs) > 1:\n",
    "        this_obs = this_obs[0]\n",
    "        print(\"This observation had more than one specno with that number\")\n",
    "    else:\n",
    "        pass\n",
    "\n",
    "    if (this_obs['CAMERAS'] == b'b1') | (this_obs['CAMERAS'] == b'b2'):\n",
    "        model = linear_model(spectra[specno], 3, BlueVacLines,'OLS')\n",
    "    elif (this_obs['CAMERAS'] == b'r1') | (this_obs['CAMERAS'] == b'r2'):\n",
    "        model = linear_model(spectra[specno], 2, RedVacLines,'OLS')\n",
    "    else:\n",
    "        print(\"Don't recognize the camera\")\n",
    "        model = [0, 0, 0, 0, 0]\n",
    "\n",
    "    model_fit = np.zeros(len(model[0]),dtype=[('PLATE','i4'), ('COLOR','S2'), ('SPECNO','i4'), ('WAVE','f8'),\n",
    "                                              ('LINES','f8'), ('CONT','f8'), ('RESIDS','f8'), ('R','f8')])\n",
    "    model_fit['PLATE'] = plate_num\n",
    "    model_fit['COLOR'] = this_obs['CAMERAS']\n",
    "    model_fit['SPECNO'] = specno\n",
    "    model_fit['WAVE'] = model[0]\n",
    "    model_fit['LINES'] = model[1]\n",
    "    model_fit['CONT'] = model[2]\n",
    "    model_fit['RESIDS'] = model[3]\n",
    "    model_fit['R'] = model[4]\n",
    "\n",
    "    return model_fit"
   ]
  },
  {
   "cell_type": "code",
   "execution_count": 112,
   "metadata": {
    "collapsed": true
   },
   "outputs": [],
   "source": [
    "def clean_spectra(spectrum):\n",
    "    \"\"\"Takes out all nan/inf so lstsq will run smoothly\n",
    "    \"\"\"\n",
    "    ok = np.isfinite(spectrum['SKY'])\n",
    "\n",
    "    wave = spectrum['WAVE'][ok]\n",
    "    sky = spectrum['SKY'][ok]\n",
    "    sigma = spectrum['SIGMA'][ok]\n",
    "    disp = spectrum['DISP'][ok]\n",
    "    \n",
    "    return [wave,sky,sigma,disp]"
   ]
  },
  {
   "cell_type": "code",
   "execution_count": 199,
   "metadata": {
    "collapsed": false
   },
   "outputs": [],
   "source": [
    "def airglow_line_components(vaclines, wave_range, disp_range):\n",
    "    \"\"\" Takes each Airglow line included in the analysis and creates a gaussian profile \n",
    "    of the line. \n",
    "    INPUT: - List of airglow lines wanted to model\n",
    "           - Wavelength range of the spectra\n",
    "           - Wavelength dispersion for the wavelength range of the spectra\n",
    "    OUTPUT: \n",
    "           Matrix with all lines used for linear regression. Size[len(wave_range),len(airglow_lines)]\n",
    "    \"\"\"\n",
    "    AA = []\n",
    "    for line in vaclines:\n",
    "        AA.append(np.exp(-0.5*((wave_range-line)/disp_range)**2))\n",
    "    return np.vstack(AA)"
   ]
  },
  {
   "cell_type": "code",
   "execution_count": 187,
   "metadata": {
    "collapsed": false
   },
   "outputs": [
    {
     "data": {
      "text/plain": [
       "array([ -26.42478271,  -26.32495324,  -26.22511042, ...,  243.31391697,\n",
       "        243.42636802,  243.53881897])"
      ]
     },
     "execution_count": 187,
     "metadata": {},
     "output_type": "execute_result"
    }
   ],
   "source": [
    "blue_spectra['WAVE'] - BlueVacLines[0]"
   ]
  },
  {
   "cell_type": "code",
   "execution_count": 304,
   "metadata": {
    "collapsed": true
   },
   "outputs": [],
   "source": [
    "def linear_model(spectrum, num_cont, vaclines, mod):\n",
    "    \"\"\" This is the heart of the program. It computes the linear model using Ordinary Least Squares. It then\n",
    "    splits up the model into components: lines, continuum and residuals.\n",
    "    The inputs characterize whether it is a blue or red sky fit. They have slightly different \n",
    "    continuum models and we break up the airglow lines so that it is faster.\n",
    "\n",
    "    INPUTS:  - sky spectrum: from Boss Sky Spectra (generated by spframe_flux.py)\n",
    "             - num_cont: the number of polynomials used for the continuum fitting\n",
    "             - airglow_lines: the set of lines used to fit out the airglow. different for blue/red\n",
    "    OUTPUTS: - wave_range: original wavelength range (generated by spframe_flux.py)\n",
    "             - lines: Airglow lines fitted\n",
    "             - cont: Continuum fitted\n",
    "             - res: Residuals between linear model and original sky flux\n",
    "             - R: R^2 value to determine goodness of fit\n",
    "    \"\"\"\n",
    "    wave, sky, sigma, disp = clean_spectra(spectrum)\n",
    "    AA = airglow_line_components(vaclines, wave, disp)\n",
    "\n",
    "    # Continuum model\n",
    "    AC = []\n",
    "    for i in range(num_cont):\n",
    "        AC.append(eval_legendre(i, wave))\n",
    "        \n",
    "    AC = np.array(AC)\n",
    "    A = np.stack(np.vstack((AC, AA)), axis=1)\n",
    "\n",
    "    new_sigma = sigma+0.02*sky\n",
    "    #print(np.unique(new_sigma))\n",
    "\n",
    "    if mod == 'LA':\n",
    "        AAA = []\n",
    "        for row in A.T:\n",
    "            if np.all(row > 0, axis=0):\n",
    "                AAA.append(row)\n",
    "        AAA = np.array(AAA)\n",
    "        X = np.dot(inv(np.dot(AAA,AAA.T)),np.dot(AAA.T,sky))\n",
    "        model = np.dot(AAA,X)\n",
    "    elif mod == 'LSQ':\n",
    "        lsq = lstsq(A,sky)\n",
    "        model = np.dot(A,lsq[0])\n",
    "        params = lsq[0]\n",
    "    elif mod == 'OLS':\n",
    "        results = sm.OLS(sky, A).fit()\n",
    "        params = results.params\n",
    "        model = np.dot(A, params)\n",
    "    elif mod == 'WLS':\n",
    "        results = sm.WLS(sky, A, weights = sigma).fit()\n",
    "        params = results.params\n",
    "        model = np.dot(A, params)\n",
    "    elif mod == 'newsigma':\n",
    "        print(\"using new sigma)\")\n",
    "        results = sm.WLS(sky, A, weights = new_sigma).fit()\n",
    "        params = results.params\n",
    "        print(params)\n",
    "        model = np.dot(A, params)\n",
    "    else:\n",
    "        print(\"Choose a correct model\")\n",
    "\n",
    "    #Separate\n",
    "    cont = np.dot(A[:,0:num_cont], params[0:num_cont])\n",
    "    lines = np.dot(A[:,num_cont:], params[num_cont:])\n",
    "    res = sky - model\n",
    "\n",
    "    #R^2\n",
    "    R_1 = np.sum([(i)**2 for i in res])\n",
    "    R_2 = np.sum([(i-np.mean(sky))**2 for i in sky])  \n",
    "    R = 1-(R_1/R_2)   \n",
    "    #print(\"R^2 value: %f\" %R)\n",
    "\n",
    "    model = model\n",
    "    A = A\n",
    "    params = params\n",
    "\n",
    "    return [wave, lines, cont, res, R]"
   ]
  },
  {
   "cell_type": "code",
   "execution_count": 25,
   "metadata": {
    "collapsed": true
   },
   "outputs": [],
   "source": [
    "#VacLines available: BlueVacLines, BlueAirglowLines, RedVacLines"
   ]
  },
  {
   "cell_type": "code",
   "execution_count": 294,
   "metadata": {
    "collapsed": false
   },
   "outputs": [
    {
     "name": "stdout",
     "output_type": "stream",
     "text": [
      "R^2 value: 0.727651\n",
      "CPU times: user 34.6 ms, sys: 2.61 ms, total: 37.2 ms\n",
      "Wall time: 34.9 ms\n"
     ]
    }
   ],
   "source": [
    "%time blue1 = linear_model(blue_spectra, 3, BlueVacLines,'OLS')"
   ]
  },
  {
   "cell_type": "code",
   "execution_count": 295,
   "metadata": {
    "collapsed": false
   },
   "outputs": [
    {
     "data": {
      "text/plain": [
       "<matplotlib.legend.Legend at 0x137ddbdd8>"
      ]
     },
     "execution_count": 295,
     "metadata": {},
     "output_type": "execute_result"
    },
    {
     "data": {
      "image/png": "[encoded data removed]",
      "text/plain": [
       "<matplotlib.figure.Figure at 0x159f9d240>"
      ]
     },
     "metadata": {},
     "output_type": "display_data"
    }
   ],
   "source": [
    "plt.plot(blue1[0], blue1[1]+blue1[2], label='first')\n",
    "#plt.plot(blue1[0], blue_model2[0],label='second')\n",
    "plt.plot(blue_spectra['WAVE'], blue_spectra['SKY'],label='measured')\n",
    "#plt.xlim([555,560])\n",
    "plt.xlim([380,450])\n",
    "#plt.xlim([450,500])\n",
    "#plt.xlim([500,550])\n",
    "#plt.xlim([550,580])\n",
    "#plt.xlim([580,600])\n",
    "#plt.xlim([600,630])\n",
    "plt.legend()"
   ]
  },
  {
   "cell_type": "code",
   "execution_count": 214,
   "metadata": {
    "collapsed": false
   },
   "outputs": [
    {
     "data": {
      "text/plain": [
       "[<matplotlib.lines.Line2D at 0x133360828>]"
      ]
     },
     "execution_count": 214,
     "metadata": {},
     "output_type": "execute_result"
    },
    {
     "data": {
      "image/png": "[encoded data removed]",
      "text/plain": [
       "<matplotlib.figure.Figure at 0x156e932e8>"
      ]
     },
     "metadata": {},
     "output_type": "display_data"
    }
   ],
   "source": [
    "plt.plot(blue1[0],blue1[2]+blue1[3])"
   ]
  },
  {
   "cell_type": "code",
   "execution_count": 215,
   "metadata": {
    "collapsed": false
   },
   "outputs": [
    {
     "ename": "NameError",
     "evalue": "name 'cont' is not defined",
     "output_type": "error",
     "traceback": [
      "\u001b[0;31m---------------------------------------------------------------------------\u001b[0m",
      "\u001b[0;31mNameError\u001b[0m                                 Traceback (most recent call last)",
      "\u001b[0;32m<ipython-input-215-85b26e94f336>\u001b[0m in \u001b[0;36m<module>\u001b[0;34m()\u001b[0m\n\u001b[0;32m----> 1\u001b[0;31m \u001b[0mplt\u001b[0m\u001b[0;34m.\u001b[0m\u001b[0mplot\u001b[0m\u001b[0;34m(\u001b[0m\u001b[0mblue_wave\u001b[0m\u001b[0;34m,\u001b[0m \u001b[0mcont\u001b[0m\u001b[0;34m+\u001b[0m\u001b[0mres\u001b[0m\u001b[0;34m,\u001b[0m \u001b[0mlabel\u001b[0m \u001b[0;34m=\u001b[0m\u001b[0;34m'lsq'\u001b[0m\u001b[0;34m)\u001b[0m\u001b[0;34m\u001b[0m\u001b[0m\n\u001b[0m\u001b[1;32m      2\u001b[0m \u001b[0mplt\u001b[0m\u001b[0;34m.\u001b[0m\u001b[0mplot\u001b[0m\u001b[0;34m(\u001b[0m\u001b[0mblue_wave\u001b[0m\u001b[0;34m,\u001b[0m \u001b[0mcont2\u001b[0m\u001b[0;34m+\u001b[0m\u001b[0mres2\u001b[0m\u001b[0;34m,\u001b[0m \u001b[0mlabel\u001b[0m \u001b[0;34m=\u001b[0m \u001b[0;34m'wls'\u001b[0m\u001b[0;34m)\u001b[0m\u001b[0;34m\u001b[0m\u001b[0m\n\u001b[1;32m      3\u001b[0m \u001b[0mplt\u001b[0m\u001b[0;34m.\u001b[0m\u001b[0mlegend\u001b[0m\u001b[0;34m(\u001b[0m\u001b[0;34m)\u001b[0m\u001b[0;34m\u001b[0m\u001b[0m\n",
      "\u001b[0;31mNameError\u001b[0m: name 'cont' is not defined"
     ]
    }
   ],
   "source": [
    "plt.plot(blue_wave, cont+res, label ='lsq')\n",
    "plt.plot(blue_wave, cont2+res2, label = 'wls')\n",
    "plt.legend()"
   ]
  },
  {
   "cell_type": "code",
   "execution_count": 522,
   "metadata": {
    "collapsed": false
   },
   "outputs": [
    {
     "data": {
      "text/plain": [
       "<matplotlib.legend.Legend at 0x21cb0c6a0>"
      ]
     },
     "execution_count": 522,
     "metadata": {},
     "output_type": "execute_result"
    },
    {
     "data": {
      "image/png": "[encoded data removed]",
      "text/plain": [
       "<matplotlib.figure.Figure at 0x2293e2860>"
      ]
     },
     "metadata": {},
     "output_type": "display_data"
    }
   ],
   "source": [
    "plt.plot(red_wave, red_model[0],label='new sigma')\n",
    "plt.plot(red_wave, red_model2[0],label = 'WLS')\n",
    "plt.plot(red_wave, red_sky, label='measured')\n",
    "plt.xlim([880,890])\n",
    "plt.legend()"
   ]
  },
  {
   "cell_type": "code",
   "execution_count": 517,
   "metadata": {
    "collapsed": false
   },
   "outputs": [
    {
     "data": {
      "text/plain": [
       "[<matplotlib.lines.Line2D at 0x240fe9390>]"
      ]
     },
     "execution_count": 517,
     "metadata": {},
     "output_type": "execute_result"
    },
    {
     "data": {
      "image/png": "[encoded data removed]",
      "text/plain": [
       "<matplotlib.figure.Figure at 0x23d02a400>"
      ]
     },
     "metadata": {},
     "output_type": "display_data"
    }
   ],
   "source": [
    "plt.plot(red_wave,cont+res)\n",
    "plt.plot(red_wave,cont2+res2)\n",
    "#plt.xlim([880,890])"
   ]
  },
  {
   "cell_type": "code",
   "execution_count": 505,
   "metadata": {
    "collapsed": false
   },
   "outputs": [
    {
     "data": {
      "text/plain": [
       "[<matplotlib.lines.Line2D at 0x216fcd940>]"
      ]
     },
     "execution_count": 505,
     "metadata": {},
     "output_type": "execute_result"
    },
    {
     "data": {
      "image/png": "[encoded data removed]",
      "text/plain": [
       "<matplotlib.figure.Figure at 0x216fcd860>"
      ]
     },
     "metadata": {},
     "output_type": "display_data"
    }
   ],
   "source": [
    "plt.plot(red_wave, cont+res, 'b-')\n",
    "plt.plot(red_wave, lines, 'g-')"
   ]
  },
  {
   "cell_type": "code",
   "execution_count": null,
   "metadata": {
    "collapsed": true
   },
   "outputs": [],
   "source": []
  },
  {
   "cell_type": "code",
   "execution_count": null,
   "metadata": {
    "collapsed": true
   },
   "outputs": [],
   "source": []
  }
 ],
 "metadata": {
  "anaconda-cloud": {},
  "kernelspec": {
   "display_name": "Python [conda root]",
   "language": "python",
   "name": "conda-root-py"
  },
  "language_info": {
   "codemirror_mode": {
    "name": "ipython",
    "version": 3
   },
   "file_extension": ".py",
   "mimetype": "text/x-python",
   "name": "python",
   "nbconvert_exporter": "python",
   "pygments_lexer": "ipython3",
   "version": "3.5.2"
  }
 },
 "nbformat": 4,
 "nbformat_minor": 1
}
